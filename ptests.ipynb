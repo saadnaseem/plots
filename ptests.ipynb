{
 "cells": [
  {
   "cell_type": "code",
   "execution_count": 12,
   "metadata": {},
   "outputs": [
    {
     "name": "stdout",
     "output_type": "stream",
     "text": [
      "Loading data...\n"
     ]
    }
   ],
   "source": [
    "import numpy as np\n",
    "from scipy.stats import ttest_ind_from_stats\n",
    "from statsmodels.stats.multitest import multipletests\n",
    "print(\"Loading data...\")"
   ]
  },
  {
   "cell_type": "code",
   "execution_count": 13,
   "metadata": {},
   "outputs": [
    {
     "name": "stdout",
     "output_type": "stream",
     "text": [
      "     Protein Protein.Group Protein.Names Protein.Description  \\\n",
      "0         a1            a1            a1                  a1   \n",
      "1         a2            a2            a2                  a2   \n",
      "2         a3            a3            a3                  a3   \n",
      "3         a4            a4            a4                  a4   \n",
      "4         a5            a5            a5                  a5   \n",
      "...      ...           ...           ...                 ...   \n",
      "2005   a2006         a2006         a2006               a2006   \n",
      "2006   a2007         a2007         a2007               a2007   \n",
      "2007   a2008         a2008         a2008               a2008   \n",
      "2008   a2009         a2009         a2009               a2009   \n",
      "2009   a2010         a2010         a2010               a2010   \n",
      "\n",
      "      log2_mean_250129_2  log2_mean_250129_1  log2_std_250129_2  \\\n",
      "0              22.645534           20.976661           0.068267   \n",
      "1              16.711749           14.501826           0.404253   \n",
      "2              22.997211           22.468393           0.040428   \n",
      "3              23.538433           23.349098           0.062021   \n",
      "4              24.039186           24.083372           0.096306   \n",
      "...                  ...                 ...                ...   \n",
      "2005           21.107310           20.332368           0.132954   \n",
      "2006           22.915920           22.191102           0.026064   \n",
      "2007           20.312865           18.729462           0.529561   \n",
      "2008           24.717164           24.387730           0.053871   \n",
      "2009           17.183210           17.121115           0.303729   \n",
      "\n",
      "      log2_std_250129_1  \n",
      "0              1.136944  \n",
      "1              0.896465  \n",
      "2              0.299373  \n",
      "3              0.127270  \n",
      "4              0.092542  \n",
      "...                 ...  \n",
      "2005           0.436023  \n",
      "2006           0.314781  \n",
      "2007           0.490609  \n",
      "2008           0.195355  \n",
      "2009           0.288152  \n",
      "\n",
      "[2010 rows x 8 columns]\n"
     ]
    }
   ],
   "source": [
    "# import excel file and convert to df\n",
    "import pandas as pd\n",
    "import matplotlib.pyplot as plt\n",
    "import seaborn as sns\n",
    "\n",
    "df = pd.read_excel('/Users/snaseem/github/plots/volcanoplot/samplefile2.xlsx')\n",
    "print(df)\n"
   ]
  },
  {
   "cell_type": "code",
   "execution_count": 14,
   "metadata": {},
   "outputs": [],
   "source": [
    "mean1=df['log2_mean_250129_2']\n",
    "mean2=df['log2_mean_250129_1']\n",
    "std1=df['log2_std_250129_2']\n",
    "std2=df['log2_std_250129_1']"
   ]
  },
  {
   "cell_type": "code",
   "execution_count": 15,
   "metadata": {},
   "outputs": [
    {
     "name": "stdout",
     "output_type": "stream",
     "text": [
      "t-statistic: [2.53783437 3.89232399 3.03201034 ... 3.79907903 2.81571905 0.25689312]\n",
      "p-value: [0.12558955 0.03442711 0.08971145 ... 0.01932301 0.09077908 0.80996736]\n"
     ]
    }
   ],
   "source": [
    "# Calculate t-statistic and p-value using Welch's t-test:\n",
    "t_stat, p_value = ttest_ind_from_stats(mean1=mean1, mean2=mean2,\n",
    "                                      std1=std1, std2=std2,\n",
    "                                      nobs1=3, nobs2=3,\n",
    "                                      equal_var=False)\n",
    "\n",
    "\n",
    "print(\"t-statistic:\", t_stat)\n",
    "print(\"p-value:\", p_value)\n"
   ]
  },
  {
   "cell_type": "code",
   "execution_count": 16,
   "metadata": {},
   "outputs": [
    {
     "name": "stdout",
     "output_type": "stream",
     "text": [
      "0       2.537834\n",
      "1       3.892324\n",
      "2       3.032010\n",
      "3       2.316311\n",
      "4      -0.573001\n",
      "          ...   \n",
      "2005    2.944523\n",
      "2006    3.974632\n",
      "2007    3.799079\n",
      "2008    2.815719\n",
      "2009    0.256893\n",
      "Name: t_stat, Length: 2010, dtype: float64\n"
     ]
    }
   ],
   "source": [
    "#include the p value and t-stats in the df\n",
    "df['p_value'] = p_value\n",
    "df['t_stat'] = t_stat\n",
    "print(df['t_stat'])"
   ]
  },
  {
   "cell_type": "code",
   "execution_count": 17,
   "metadata": {},
   "outputs": [
    {
     "name": "stdout",
     "output_type": "stream",
     "text": [
      "Adjusted p-values (FDR): [0.41792948 0.29054465 0.40116772 ... 0.23257036 0.40190737 0.87868202]\n"
     ]
    }
   ],
   "source": [
    "# Adjust p-values using the Benjamini-Hochberg method:\n",
    "reject, pvals_corrected, alphacSidak, alphacBonf = multipletests(p_value, alpha=0.05, method='fdr_bh')\n",
    "print(\"Adjusted p-values (FDR):\", pvals_corrected)"
   ]
  },
  {
   "cell_type": "code",
   "execution_count": 18,
   "metadata": {},
   "outputs": [
    {
     "name": "stdout",
     "output_type": "stream",
     "text": [
      "     Protein Protein.Group Protein.Names Protein.Description  \\\n",
      "0         a1            a1            a1                  a1   \n",
      "1         a2            a2            a2                  a2   \n",
      "2         a3            a3            a3                  a3   \n",
      "3         a4            a4            a4                  a4   \n",
      "4         a5            a5            a5                  a5   \n",
      "...      ...           ...           ...                 ...   \n",
      "2005   a2006         a2006         a2006               a2006   \n",
      "2006   a2007         a2007         a2007               a2007   \n",
      "2007   a2008         a2008         a2008               a2008   \n",
      "2008   a2009         a2009         a2009               a2009   \n",
      "2009   a2010         a2010         a2010               a2010   \n",
      "\n",
      "      log2_mean_250129_2  log2_mean_250129_1  log2_std_250129_2  \\\n",
      "0              22.645534           20.976661           0.068267   \n",
      "1              16.711749           14.501826           0.404253   \n",
      "2              22.997211           22.468393           0.040428   \n",
      "3              23.538433           23.349098           0.062021   \n",
      "4              24.039186           24.083372           0.096306   \n",
      "...                  ...                 ...                ...   \n",
      "2005           21.107310           20.332368           0.132954   \n",
      "2006           22.915920           22.191102           0.026064   \n",
      "2007           20.312865           18.729462           0.529561   \n",
      "2008           24.717164           24.387730           0.053871   \n",
      "2009           17.183210           17.121115           0.303729   \n",
      "\n",
      "      log2_std_250129_1   p_value    t_stat  p_value_adjusted  \n",
      "0              1.136944  0.125590  2.537834          0.417929  \n",
      "1              0.896465  0.034427  3.892324          0.290545  \n",
      "2              0.299373  0.089711  3.032010          0.401168  \n",
      "3              0.127270  0.106479  2.316311          0.406159  \n",
      "4              0.092542  0.597363 -0.573001          0.728097  \n",
      "...                 ...       ...       ...               ...  \n",
      "2005           0.436023  0.080531  2.944523          0.388546  \n",
      "2006           0.314781  0.056578  3.974632          0.352374  \n",
      "2007           0.490609  0.019323  3.799079          0.232570  \n",
      "2008           0.195355  0.090779  2.815719          0.401907  \n",
      "2009           0.288152  0.809967  0.256893          0.878682  \n",
      "\n",
      "[2010 rows x 11 columns]\n"
     ]
    }
   ],
   "source": [
    "#add adjusted p values to the df\n",
    "df['p_value_adjusted'] = pvals_corrected\n",
    "print(df)"
   ]
  },
  {
   "cell_type": "code",
   "execution_count": 26,
   "metadata": {},
   "outputs": [],
   "source": [
    "#column of log2 fold change \n",
    "df['log2_fold_change'] = mean1 - mean2\n",
    "#export this file df as xlsx\n",
    "df.to_excel('samplefile3output.xlsx', index=False)\n",
    "\n",
    "\n",
    "\n"
   ]
  },
  {
   "cell_type": "code",
   "execution_count": null,
   "metadata": {},
   "outputs": [],
   "source": []
  }
 ],
 "metadata": {
  "kernelspec": {
   "display_name": "Python 3",
   "language": "python",
   "name": "python3"
  },
  "language_info": {
   "codemirror_mode": {
    "name": "ipython",
    "version": 3
   },
   "file_extension": ".py",
   "mimetype": "text/x-python",
   "name": "python",
   "nbconvert_exporter": "python",
   "pygments_lexer": "ipython3",
   "version": "3.9.13"
  }
 },
 "nbformat": 4,
 "nbformat_minor": 2
}
